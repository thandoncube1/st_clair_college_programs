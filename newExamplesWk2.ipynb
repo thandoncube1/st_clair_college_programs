{
 "cells": [
  {
   "cell_type": "code",
   "execution_count": 19,
   "metadata": {},
   "outputs": [
    {
     "name": "stdout",
     "output_type": "stream",
     "text": [
      "This is the value of:  44\n"
     ]
    }
   ],
   "source": [
    "number = 12\n",
    "number2 = 32\n",
    "output_msg = \"value of: \"\n",
    "print(f\"This is the {output_msg} {number + number2}\")"
   ]
  },
  {
   "cell_type": "code",
   "execution_count": 20,
   "metadata": {},
   "outputs": [],
   "source": [
    "from typing import Any\n",
    "\n",
    "\n",
    "class Print:\n",
    "    def __gt__(self, thing):\n",
    "        print(thing)\n",
    "\n"
   ]
  },
  {
   "cell_type": "code",
   "execution_count": 21,
   "metadata": {},
   "outputs": [
    {
     "name": "stdout",
     "output_type": "stream",
     "text": [
      "uke\n",
      "Luke\n"
     ]
    }
   ],
   "source": [
    "name = \"Luke\"\n",
    "a = name[-3:4]\n",
    "b = name[:]\n",
    "p = Print()\n",
    "p > a\n",
    "p > b"
   ]
  },
  {
   "cell_type": "code",
   "execution_count": 22,
   "metadata": {},
   "outputs": [
    {
     "name": "stdout",
     "output_type": "stream",
     "text": [
      "4\n"
     ]
    }
   ],
   "source": [
    "length = len(name)\n",
    "\n",
    "p > length"
   ]
  },
  {
   "cell_type": "code",
   "execution_count": 23,
   "metadata": {},
   "outputs": [
    {
     "name": "stdout",
     "output_type": "stream",
     "text": [
      "['The', 'dry', 'wall', 'is', 'not', 'stable', 'for', 'decorations']\n"
     ]
    }
   ],
   "source": [
    "sentence = \"The dry wall is not stable for decorations\"\n",
    "s = sentence.split()\n",
    "\n",
    "p > s"
   ]
  },
  {
   "cell_type": "code",
   "execution_count": 29,
   "metadata": {},
   "outputs": [
    {
     "name": "stdout",
     "output_type": "stream",
     "text": [
      "['The', 'dry', 'wall', 'is', 'not', 'stable', 'for', 'decorations']\n",
      "None\n",
      "['Add to the sentence', 'The', 'dry', 'wall', 'is', 'not', 'stable', 'for', 'decorations']\n"
     ]
    }
   ],
   "source": [
    "myList = s\n",
    "\n",
    "p > myList\n",
    "\n",
    "p > myList.insert(0, \"Add to the sentence\")\n",
    "p > myList"
   ]
  },
  {
   "cell_type": "code",
   "execution_count": 30,
   "metadata": {},
   "outputs": [
    {
     "name": "stdout",
     "output_type": "stream",
     "text": [
      "['Add to the sentence', 'The', 'dry', 'wall', 'is', 'not', 'stable', 'for', 'decorations']\n",
      "None\n"
     ]
    }
   ],
   "source": [
    "p > myList\n",
    "temp = myList.remove(\"Add to the sentence\")\n",
    "p > temp"
   ]
  }
 ],
 "metadata": {
  "kernelspec": {
   "display_name": "Python 3",
   "language": "python",
   "name": "python3"
  },
  "language_info": {
   "codemirror_mode": {
    "name": "ipython",
    "version": 3
   },
   "file_extension": ".py",
   "mimetype": "text/x-python",
   "name": "python",
   "nbconvert_exporter": "python",
   "pygments_lexer": "ipython3",
   "version": "3.12.2"
  }
 },
 "nbformat": 4,
 "nbformat_minor": 2
}
