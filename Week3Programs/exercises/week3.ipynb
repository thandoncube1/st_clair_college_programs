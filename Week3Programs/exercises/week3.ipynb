{
 "cells": [
  {
   "cell_type": "code",
   "execution_count": 14,
   "metadata": {},
   "outputs": [],
   "source": [
    "income = 45000\n",
    "credit = 567\n",
    "jobTerminMon = 16"
   ]
  },
  {
   "cell_type": "code",
   "execution_count": 2,
   "metadata": {},
   "outputs": [
    {
     "name": "stdout",
     "output_type": "stream",
     "text": [
      "You are eligible for a loan\n"
     ]
    }
   ],
   "source": [
    "if income >= 40000 and credit >= 600:\n",
    "    print('You are eligible for a loan')\n",
    "elif income >= 40000 and jobTerminMon >= 12:\n",
    "    print('You are eligible for a loan')\n",
    "else:\n",
    "    print(\"Sorry you won't have access to this loan\")"
   ]
  },
  {
   "cell_type": "code",
   "execution_count": 16,
   "metadata": {},
   "outputs": [],
   "source": [
    "class Print:\n",
    "    def __lt__(self, args):\n",
    "        print(args)\n",
    "\n",
    "p = Print()\n",
    "    "
   ]
  },
  {
   "cell_type": "code",
   "execution_count": 22,
   "metadata": {},
   "outputs": [
    {
     "name": "stdout",
     "output_type": "stream",
     "text": [
      "Result: CAD$51749\n"
     ]
    }
   ],
   "source": [
    "hoursOfWOrk = 120\n",
    "bonus = True\n",
    "\n",
    "if hoursOfWOrk >= 80:\n",
    "    if bonus == True:\n",
    "        result = income * 1.15\n",
    "        p < \"Result: CAD$%d\" % result"
   ]
  }
 ],
 "metadata": {
  "kernelspec": {
   "display_name": "Python 3",
   "language": "python",
   "name": "python3"
  },
  "language_info": {
   "codemirror_mode": {
    "name": "ipython",
    "version": 3
   },
   "file_extension": ".py",
   "mimetype": "text/x-python",
   "name": "python",
   "nbconvert_exporter": "python",
   "pygments_lexer": "ipython3",
   "version": "3.9.6"
  }
 },
 "nbformat": 4,
 "nbformat_minor": 2
}
